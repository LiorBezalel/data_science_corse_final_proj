{
 "cells": [
  {
   "cell_type": "markdown",
   "id": "8cc949e8",
   "metadata": {},
   "source": [
    "# MACHINE LEARNING"
   ]
  },
  {
   "cell_type": "code",
   "execution_count": 1,
   "id": "e5ea05ae",
   "metadata": {},
   "outputs": [],
   "source": [
    "import os                     \n",
    "import pandas as pd\n",
    "import sklearn\n",
    "from sklearn.model_selection import train_test_split\n",
    "# --------cross-validation\n",
    "from sklearn.model_selection import cross_val_score\n",
    "from sklearn.model_selection import GridSearchCV\n",
    "# -------- classification\n",
    "from sklearn import neighbors, tree, ensemble, naive_bayes\n",
    "# *** KNN\n",
    "from sklearn.neighbors import KNeighborsClassifier\n",
    "# *** Decision Tree; Random Forest\n",
    "from sklearn import tree\n",
    "from sklearn.tree import DecisionTreeClassifier\n",
    "# *** Naive Bayes\n",
    "from sklearn.naive_bayes import GaussianNB\n",
    "# --------  metrics:\n",
    "from sklearn import metrics\n",
    "from sklearn.metrics import accuracy_score, precision_score, recall_score, f1_score, confusion_matrix,r2_score\n",
    "from sklearn.linear_model import LogisticRegression\n",
    "from sklearn.preprocessing import StandardScaler\n",
    "\n",
    "%matplotlib inline"
   ]
  },
  {
   "cell_type": "code",
   "execution_count": 2,
   "id": "c19445fc",
   "metadata": {},
   "outputs": [],
   "source": [
    "def read_csv(file_name):\n",
    "    dataset = pd.read_csv(file_name, index_col = 0).drop(columns = ['song_name', 'artist','spotify_track_id'])\n",
    "    return dataset"
   ]
  },
  {
   "cell_type": "code",
   "execution_count": 3,
   "id": "1b3fef39",
   "metadata": {},
   "outputs": [],
   "source": [
    "data = read_csv('cln_data.csv')"
   ]
  },
  {
   "cell_type": "code",
   "execution_count": 4,
   "id": "6a441893",
   "metadata": {},
   "outputs": [],
   "source": [
    "def split_to_train_and_test(dataset, label_column):\n",
    "    X = dataset.drop(columns = label_column)\n",
    "    y = dataset[label_column]\n",
    "    XTrain, XTest, yTrain, yTest = train_test_split(X, y, random_state=42, test_size=0.3)\n",
    "    return XTrain, XTest, yTrain, yTest"
   ]
  },
  {
   "cell_type": "code",
   "execution_count": 5,
   "id": "ae6030be",
   "metadata": {},
   "outputs": [],
   "source": [
    "XTrain, XTest, yTrain, yTest = split_to_train_and_test(data, 'entered_biilboard')"
   ]
  },
  {
   "cell_type": "markdown",
   "id": "783b96a3",
   "metadata": {},
   "source": [
    "# decision tree classifier"
   ]
  },
  {
   "cell_type": "code",
   "execution_count": 6,
   "id": "b022b079",
   "metadata": {},
   "outputs": [
    {
     "name": "stdout",
     "output_type": "stream",
     "text": [
      "Accuracy on test data =  0.6615384615384615\n"
     ]
    }
   ],
   "source": [
    "#----------decision tree classifier\n",
    "decisionTree = tree.DecisionTreeClassifier(max_depth = 2, min_samples_split = 15)\n",
    "decisionTree = decisionTree.fit(XTrain, yTrain)\n",
    "y_pred = decisionTree.predict(XTest)\n",
    "# measure accuracy\n",
    "print('Accuracy on test data = ', metrics.accuracy_score(y_true = yTest, y_pred = y_pred))"
   ]
  },
  {
   "cell_type": "code",
   "execution_count": 7,
   "id": "3be2337e",
   "metadata": {},
   "outputs": [
    {
     "data": {
      "text/plain": [
       "array([[236,   5],\n",
       "       [149,  65]], dtype=int64)"
      ]
     },
     "execution_count": 7,
     "metadata": {},
     "output_type": "execute_result"
    }
   ],
   "source": [
    "confusion_matrix(y_true = yTest, y_pred = y_pred)"
   ]
  },
  {
   "cell_type": "markdown",
   "id": "50045e13",
   "metadata": {},
   "source": [
    "# NAIVE-BAYSE"
   ]
  },
  {
   "cell_type": "code",
   "execution_count": 8,
   "id": "28400f76",
   "metadata": {},
   "outputs": [
    {
     "name": "stdout",
     "output_type": "stream",
     "text": [
      "0.5844848484848485\n"
     ]
    }
   ],
   "source": [
    "#-----------NAIVE-BAYSE\n",
    "clf_naive_bayse = GaussianNB()\n",
    "naive_scores = cross_val_score(clf_naive_bayse, XTrain, yTrain, scoring = 'recall')\n",
    "print(naive_scores.mean())"
   ]
  },
  {
   "cell_type": "markdown",
   "id": "4f5ee62c",
   "metadata": {},
   "source": [
    "# LOGISTIC-REGRESSION"
   ]
  },
  {
   "cell_type": "code",
   "execution_count": 9,
   "id": "ac7921f1",
   "metadata": {},
   "outputs": [
    {
     "name": "stdout",
     "output_type": "stream",
     "text": [
      "recall score is:  0.6822429906542056\n",
      "f1 score is:  0.6774941995359629\n",
      "accuracy is:  0.6945054945054945\n",
      "precision score is:  0.6728110599078341\n",
      "confusion_matrix:\n",
      "[[170  71]\n",
      " [ 68 146]]\n"
     ]
    }
   ],
   "source": [
    "#-------------lOGISTIC-REGRESSION\n",
    "scaler = StandardScaler()\n",
    "# Normalize the input features\n",
    "X_train_normalized = scaler.fit_transform(XTrain)\n",
    "X_test_normalized = scaler.transform(XTest)\n",
    "lrm = LogisticRegression()\n",
    "lrm.fit(X_train_normalized,yTrain)\n",
    "y_pred = lrm.predict(X_test_normalized)\n",
    "cn=confusion_matrix(y_true = yTest, y_pred = y_pred)\n",
    "\n",
    "#-------------lOGISTIC-REGRESSION-ESTEMATE\n",
    "print(\"recall score is: \", recall_score(y_true = yTest, y_pred = y_pred))\n",
    "print(\"f1 score is: \", f1_score(y_true = yTest, y_pred = y_pred))\n",
    "print(\"accuracy is: \", accuracy_score(y_true = yTest, y_pred = y_pred))\n",
    "print(\"precision score is: \", precision_score(y_true = yTest, y_pred = y_pred))\n",
    "print(f'confusion_matrix:\\n{cn}')"
   ]
  },
  {
   "cell_type": "markdown",
   "id": "05450978",
   "metadata": {},
   "source": [
    "# KNN"
   ]
  },
  {
   "cell_type": "code",
   "execution_count": 10,
   "id": "89d04201",
   "metadata": {},
   "outputs": [
    {
     "name": "stderr",
     "output_type": "stream",
     "text": [
      "C:\\Users\\Lior Bezalel\\anaconda3\\lib\\site-packages\\sklearn\\neighbors\\_classification.py:228: FutureWarning: Unlike other reduction functions (e.g. `skew`, `kurtosis`), the default behavior of `mode` typically preserves the axis it acts along. In SciPy 1.11.0, this behavior will change: the default value of `keepdims` will become False, the `axis` over which the statistic is taken will be eliminated, and the value None will no longer be accepted. Set `keepdims` to True or False to avoid this warning.\n",
      "  mode, _ = stats.mode(_y[neigh_ind, k], axis=1)\n",
      "C:\\Users\\Lior Bezalel\\anaconda3\\lib\\site-packages\\sklearn\\neighbors\\_classification.py:228: FutureWarning: Unlike other reduction functions (e.g. `skew`, `kurtosis`), the default behavior of `mode` typically preserves the axis it acts along. In SciPy 1.11.0, this behavior will change: the default value of `keepdims` will become False, the `axis` over which the statistic is taken will be eliminated, and the value None will no longer be accepted. Set `keepdims` to True or False to avoid this warning.\n",
      "  mode, _ = stats.mode(_y[neigh_ind, k], axis=1)\n",
      "C:\\Users\\Lior Bezalel\\anaconda3\\lib\\site-packages\\sklearn\\neighbors\\_classification.py:228: FutureWarning: Unlike other reduction functions (e.g. `skew`, `kurtosis`), the default behavior of `mode` typically preserves the axis it acts along. In SciPy 1.11.0, this behavior will change: the default value of `keepdims` will become False, the `axis` over which the statistic is taken will be eliminated, and the value None will no longer be accepted. Set `keepdims` to True or False to avoid this warning.\n",
      "  mode, _ = stats.mode(_y[neigh_ind, k], axis=1)\n",
      "C:\\Users\\Lior Bezalel\\anaconda3\\lib\\site-packages\\sklearn\\neighbors\\_classification.py:228: FutureWarning: Unlike other reduction functions (e.g. `skew`, `kurtosis`), the default behavior of `mode` typically preserves the axis it acts along. In SciPy 1.11.0, this behavior will change: the default value of `keepdims` will become False, the `axis` over which the statistic is taken will be eliminated, and the value None will no longer be accepted. Set `keepdims` to True or False to avoid this warning.\n",
      "  mode, _ = stats.mode(_y[neigh_ind, k], axis=1)\n",
      "C:\\Users\\Lior Bezalel\\anaconda3\\lib\\site-packages\\sklearn\\neighbors\\_classification.py:228: FutureWarning: Unlike other reduction functions (e.g. `skew`, `kurtosis`), the default behavior of `mode` typically preserves the axis it acts along. In SciPy 1.11.0, this behavior will change: the default value of `keepdims` will become False, the `axis` over which the statistic is taken will be eliminated, and the value None will no longer be accepted. Set `keepdims` to True or False to avoid this warning.\n",
      "  mode, _ = stats.mode(_y[neigh_ind, k], axis=1)\n",
      "C:\\Users\\Lior Bezalel\\anaconda3\\lib\\site-packages\\sklearn\\neighbors\\_classification.py:228: FutureWarning: Unlike other reduction functions (e.g. `skew`, `kurtosis`), the default behavior of `mode` typically preserves the axis it acts along. In SciPy 1.11.0, this behavior will change: the default value of `keepdims` will become False, the `axis` over which the statistic is taken will be eliminated, and the value None will no longer be accepted. Set `keepdims` to True or False to avoid this warning.\n",
      "  mode, _ = stats.mode(_y[neigh_ind, k], axis=1)\n",
      "C:\\Users\\Lior Bezalel\\anaconda3\\lib\\site-packages\\sklearn\\neighbors\\_classification.py:228: FutureWarning: Unlike other reduction functions (e.g. `skew`, `kurtosis`), the default behavior of `mode` typically preserves the axis it acts along. In SciPy 1.11.0, this behavior will change: the default value of `keepdims` will become False, the `axis` over which the statistic is taken will be eliminated, and the value None will no longer be accepted. Set `keepdims` to True or False to avoid this warning.\n",
      "  mode, _ = stats.mode(_y[neigh_ind, k], axis=1)\n",
      "C:\\Users\\Lior Bezalel\\anaconda3\\lib\\site-packages\\sklearn\\neighbors\\_classification.py:228: FutureWarning: Unlike other reduction functions (e.g. `skew`, `kurtosis`), the default behavior of `mode` typically preserves the axis it acts along. In SciPy 1.11.0, this behavior will change: the default value of `keepdims` will become False, the `axis` over which the statistic is taken will be eliminated, and the value None will no longer be accepted. Set `keepdims` to True or False to avoid this warning.\n",
      "  mode, _ = stats.mode(_y[neigh_ind, k], axis=1)\n"
     ]
    },
    {
     "data": {
      "text/html": [
       "<div>\n",
       "<style scoped>\n",
       "    .dataframe tbody tr th:only-of-type {\n",
       "        vertical-align: middle;\n",
       "    }\n",
       "\n",
       "    .dataframe tbody tr th {\n",
       "        vertical-align: top;\n",
       "    }\n",
       "\n",
       "    .dataframe thead th {\n",
       "        text-align: right;\n",
       "    }\n",
       "</style>\n",
       "<table border=\"1\" class=\"dataframe\">\n",
       "  <thead>\n",
       "    <tr style=\"text-align: right;\">\n",
       "      <th></th>\n",
       "      <th>k</th>\n",
       "      <th>train_accuracy</th>\n",
       "      <th>test_accuracy</th>\n",
       "    </tr>\n",
       "  </thead>\n",
       "  <tbody>\n",
       "    <tr>\n",
       "      <th>0</th>\n",
       "      <td>3</td>\n",
       "      <td>0.782075</td>\n",
       "      <td>0.591209</td>\n",
       "    </tr>\n",
       "    <tr>\n",
       "      <th>1</th>\n",
       "      <td>7</td>\n",
       "      <td>0.716981</td>\n",
       "      <td>0.606593</td>\n",
       "    </tr>\n",
       "    <tr>\n",
       "      <th>2</th>\n",
       "      <td>9</td>\n",
       "      <td>0.709434</td>\n",
       "      <td>0.621978</td>\n",
       "    </tr>\n",
       "    <tr>\n",
       "      <th>3</th>\n",
       "      <td>11</td>\n",
       "      <td>0.700943</td>\n",
       "      <td>0.630769</td>\n",
       "    </tr>\n",
       "  </tbody>\n",
       "</table>\n",
       "</div>"
      ],
      "text/plain": [
       "    k  train_accuracy  test_accuracy\n",
       "0   3        0.782075       0.591209\n",
       "1   7        0.716981       0.606593\n",
       "2   9        0.709434       0.621978\n",
       "3  11        0.700943       0.630769"
      ]
     },
     "execution_count": 10,
     "metadata": {},
     "output_type": "execute_result"
    }
   ],
   "source": [
    "k_s=[]\n",
    "train_accuracies=[]\n",
    "test_accuracies=[]\n",
    "# Create an instance of the StandardScaler class\n",
    "scaler = StandardScaler()\n",
    "\n",
    "# Normalize the input features\n",
    "X_train_normalized = scaler.fit_transform(XTrain)\n",
    "X_test_normalized = scaler.transform(XTest)\n",
    "for k in [3, 7, 9, 11]:\n",
    "    clf = KNeighborsClassifier(n_neighbors=k)\n",
    "    clf.fit(X_train_normalized, yTrain)\n",
    "    y_pred_train=clf.predict(X_train_normalized)\n",
    "    y_pred=clf.predict(X_test_normalized)\n",
    "    k_s.append(k)\n",
    "    train_accuracies.append(metrics.accuracy_score(y_true = yTrain, y_pred = y_pred_train))\n",
    "    test_accuracies.append(metrics.accuracy_score(y_true = yTest, y_pred = y_pred))\n",
    "\n",
    "df=pd.DataFrame({\"k\":k_s,\"train_accuracy\":train_accuracies,\"test_accuracy\":test_accuracies})\n",
    "df"
   ]
  },
  {
   "cell_type": "code",
   "execution_count": 11,
   "id": "6628c833",
   "metadata": {},
   "outputs": [],
   "source": [
    "# #-----------FEATURES-SELECTION\n",
    "# data_features_selection = data.drop(columns = ['acousticness'])\n",
    "# data_features_selection['loudnessXenergy'] = data_features_selection['loudness']*data_features_selection['energy']\n",
    "# data_features_selection['mode'] = data_features_selection['mode'].astype(bool)"
   ]
  },
  {
   "cell_type": "markdown",
   "id": "9b767aa0",
   "metadata": {},
   "source": [
    "# DATA WITHOUT CLEANING OUTLIEARS"
   ]
  },
  {
   "cell_type": "code",
   "execution_count": 12,
   "id": "6d0a34df",
   "metadata": {},
   "outputs": [],
   "source": [
    "all_data = pd.read_csv(\"pre_EDA_dataset.csv\", index_col = 0)\n",
    "all_data.drop(columns = [\"song_name\", \"artist\", \"spotify_track_id\"], inplace = True)"
   ]
  },
  {
   "cell_type": "code",
   "execution_count": 13,
   "id": "520846d1",
   "metadata": {},
   "outputs": [
    {
     "data": {
      "text/html": [
       "<div>\n",
       "<style scoped>\n",
       "    .dataframe tbody tr th:only-of-type {\n",
       "        vertical-align: middle;\n",
       "    }\n",
       "\n",
       "    .dataframe tbody tr th {\n",
       "        vertical-align: top;\n",
       "    }\n",
       "\n",
       "    .dataframe thead th {\n",
       "        text-align: right;\n",
       "    }\n",
       "</style>\n",
       "<table border=\"1\" class=\"dataframe\">\n",
       "  <thead>\n",
       "    <tr style=\"text-align: right;\">\n",
       "      <th></th>\n",
       "      <th>danceability</th>\n",
       "      <th>energy</th>\n",
       "      <th>key</th>\n",
       "      <th>loudness</th>\n",
       "      <th>mode</th>\n",
       "      <th>speechiness</th>\n",
       "      <th>acousticness</th>\n",
       "      <th>instrumentalness</th>\n",
       "      <th>liveness</th>\n",
       "      <th>valence</th>\n",
       "      <th>tempo</th>\n",
       "      <th>duration_ms</th>\n",
       "      <th>time_signature</th>\n",
       "      <th>tracks_popularity</th>\n",
       "      <th>entered_biilboard</th>\n",
       "    </tr>\n",
       "  </thead>\n",
       "  <tbody>\n",
       "    <tr>\n",
       "      <th>0</th>\n",
       "      <td>0.761</td>\n",
       "      <td>0.525</td>\n",
       "      <td>11</td>\n",
       "      <td>-6.900</td>\n",
       "      <td>1</td>\n",
       "      <td>0.0944</td>\n",
       "      <td>0.4400</td>\n",
       "      <td>0.000007</td>\n",
       "      <td>0.0921</td>\n",
       "      <td>0.531</td>\n",
       "      <td>80.870</td>\n",
       "      <td>238805</td>\n",
       "      <td>4</td>\n",
       "      <td>88</td>\n",
       "      <td>1</td>\n",
       "    </tr>\n",
       "    <tr>\n",
       "      <th>1</th>\n",
       "      <td>0.520</td>\n",
       "      <td>0.731</td>\n",
       "      <td>6</td>\n",
       "      <td>-5.338</td>\n",
       "      <td>0</td>\n",
       "      <td>0.0557</td>\n",
       "      <td>0.3420</td>\n",
       "      <td>0.001010</td>\n",
       "      <td>0.3110</td>\n",
       "      <td>0.662</td>\n",
       "      <td>173.930</td>\n",
       "      <td>167303</td>\n",
       "      <td>4</td>\n",
       "      <td>94</td>\n",
       "      <td>1</td>\n",
       "    </tr>\n",
       "    <tr>\n",
       "      <th>2</th>\n",
       "      <td>0.591</td>\n",
       "      <td>0.764</td>\n",
       "      <td>1</td>\n",
       "      <td>-5.484</td>\n",
       "      <td>1</td>\n",
       "      <td>0.0483</td>\n",
       "      <td>0.0383</td>\n",
       "      <td>0.000000</td>\n",
       "      <td>0.1030</td>\n",
       "      <td>0.478</td>\n",
       "      <td>169.928</td>\n",
       "      <td>141806</td>\n",
       "      <td>4</td>\n",
       "      <td>89</td>\n",
       "      <td>1</td>\n",
       "    </tr>\n",
       "    <tr>\n",
       "      <th>3</th>\n",
       "      <td>0.604</td>\n",
       "      <td>0.366</td>\n",
       "      <td>5</td>\n",
       "      <td>-7.519</td>\n",
       "      <td>1</td>\n",
       "      <td>0.0282</td>\n",
       "      <td>0.5780</td>\n",
       "      <td>0.000000</td>\n",
       "      <td>0.1330</td>\n",
       "      <td>0.130</td>\n",
       "      <td>141.981</td>\n",
       "      <td>224695</td>\n",
       "      <td>4</td>\n",
       "      <td>85</td>\n",
       "      <td>1</td>\n",
       "    </tr>\n",
       "    <tr>\n",
       "      <th>4</th>\n",
       "      <td>0.788</td>\n",
       "      <td>0.859</td>\n",
       "      <td>2</td>\n",
       "      <td>-2.724</td>\n",
       "      <td>1</td>\n",
       "      <td>0.0856</td>\n",
       "      <td>0.2810</td>\n",
       "      <td>0.000000</td>\n",
       "      <td>0.0424</td>\n",
       "      <td>0.822</td>\n",
       "      <td>141.020</td>\n",
       "      <td>207853</td>\n",
       "      <td>4</td>\n",
       "      <td>88</td>\n",
       "      <td>1</td>\n",
       "    </tr>\n",
       "  </tbody>\n",
       "</table>\n",
       "</div>"
      ],
      "text/plain": [
       "   danceability  energy  key  loudness  mode  speechiness  acousticness  \\\n",
       "0         0.761   0.525   11    -6.900     1       0.0944        0.4400   \n",
       "1         0.520   0.731    6    -5.338     0       0.0557        0.3420   \n",
       "2         0.591   0.764    1    -5.484     1       0.0483        0.0383   \n",
       "3         0.604   0.366    5    -7.519     1       0.0282        0.5780   \n",
       "4         0.788   0.859    2    -2.724     1       0.0856        0.2810   \n",
       "\n",
       "   instrumentalness  liveness  valence    tempo  duration_ms  time_signature  \\\n",
       "0          0.000007    0.0921    0.531   80.870       238805               4   \n",
       "1          0.001010    0.3110    0.662  173.930       167303               4   \n",
       "2          0.000000    0.1030    0.478  169.928       141806               4   \n",
       "3          0.000000    0.1330    0.130  141.981       224695               4   \n",
       "4          0.000000    0.0424    0.822  141.020       207853               4   \n",
       "\n",
       "   tracks_popularity  entered_biilboard  \n",
       "0                 88                  1  \n",
       "1                 94                  1  \n",
       "2                 89                  1  \n",
       "3                 85                  1  \n",
       "4                 88                  1  "
      ]
     },
     "execution_count": 13,
     "metadata": {},
     "output_type": "execute_result"
    }
   ],
   "source": [
    "all_data.head()"
   ]
  },
  {
   "cell_type": "code",
   "execution_count": 14,
   "id": "a1540178",
   "metadata": {},
   "outputs": [],
   "source": [
    "XTrain, XTest, yTrain, yTest = split_to_train_and_test(all_data, 'entered_biilboard')"
   ]
  },
  {
   "cell_type": "markdown",
   "id": "8993df2f",
   "metadata": {},
   "source": [
    "### Best model chosen is KNN while K value is 3"
   ]
  },
  {
   "cell_type": "code",
   "execution_count": 15,
   "id": "6f8ae897",
   "metadata": {},
   "outputs": [
    {
     "name": "stderr",
     "output_type": "stream",
     "text": [
      "C:\\Users\\Lior Bezalel\\anaconda3\\lib\\site-packages\\sklearn\\neighbors\\_classification.py:228: FutureWarning: Unlike other reduction functions (e.g. `skew`, `kurtosis`), the default behavior of `mode` typically preserves the axis it acts along. In SciPy 1.11.0, this behavior will change: the default value of `keepdims` will become False, the `axis` over which the statistic is taken will be eliminated, and the value None will no longer be accepted. Set `keepdims` to True or False to avoid this warning.\n",
      "  mode, _ = stats.mode(_y[neigh_ind, k], axis=1)\n",
      "C:\\Users\\Lior Bezalel\\anaconda3\\lib\\site-packages\\sklearn\\neighbors\\_classification.py:228: FutureWarning: Unlike other reduction functions (e.g. `skew`, `kurtosis`), the default behavior of `mode` typically preserves the axis it acts along. In SciPy 1.11.0, this behavior will change: the default value of `keepdims` will become False, the `axis` over which the statistic is taken will be eliminated, and the value None will no longer be accepted. Set `keepdims` to True or False to avoid this warning.\n",
      "  mode, _ = stats.mode(_y[neigh_ind, k], axis=1)\n",
      "C:\\Users\\Lior Bezalel\\anaconda3\\lib\\site-packages\\sklearn\\neighbors\\_classification.py:228: FutureWarning: Unlike other reduction functions (e.g. `skew`, `kurtosis`), the default behavior of `mode` typically preserves the axis it acts along. In SciPy 1.11.0, this behavior will change: the default value of `keepdims` will become False, the `axis` over which the statistic is taken will be eliminated, and the value None will no longer be accepted. Set `keepdims` to True or False to avoid this warning.\n",
      "  mode, _ = stats.mode(_y[neigh_ind, k], axis=1)\n",
      "C:\\Users\\Lior Bezalel\\anaconda3\\lib\\site-packages\\sklearn\\neighbors\\_classification.py:228: FutureWarning: Unlike other reduction functions (e.g. `skew`, `kurtosis`), the default behavior of `mode` typically preserves the axis it acts along. In SciPy 1.11.0, this behavior will change: the default value of `keepdims` will become False, the `axis` over which the statistic is taken will be eliminated, and the value None will no longer be accepted. Set `keepdims` to True or False to avoid this warning.\n",
      "  mode, _ = stats.mode(_y[neigh_ind, k], axis=1)\n",
      "C:\\Users\\Lior Bezalel\\anaconda3\\lib\\site-packages\\sklearn\\neighbors\\_classification.py:228: FutureWarning: Unlike other reduction functions (e.g. `skew`, `kurtosis`), the default behavior of `mode` typically preserves the axis it acts along. In SciPy 1.11.0, this behavior will change: the default value of `keepdims` will become False, the `axis` over which the statistic is taken will be eliminated, and the value None will no longer be accepted. Set `keepdims` to True or False to avoid this warning.\n",
      "  mode, _ = stats.mode(_y[neigh_ind, k], axis=1)\n",
      "C:\\Users\\Lior Bezalel\\anaconda3\\lib\\site-packages\\sklearn\\neighbors\\_classification.py:228: FutureWarning: Unlike other reduction functions (e.g. `skew`, `kurtosis`), the default behavior of `mode` typically preserves the axis it acts along. In SciPy 1.11.0, this behavior will change: the default value of `keepdims` will become False, the `axis` over which the statistic is taken will be eliminated, and the value None will no longer be accepted. Set `keepdims` to True or False to avoid this warning.\n",
      "  mode, _ = stats.mode(_y[neigh_ind, k], axis=1)\n",
      "C:\\Users\\Lior Bezalel\\anaconda3\\lib\\site-packages\\sklearn\\neighbors\\_classification.py:228: FutureWarning: Unlike other reduction functions (e.g. `skew`, `kurtosis`), the default behavior of `mode` typically preserves the axis it acts along. In SciPy 1.11.0, this behavior will change: the default value of `keepdims` will become False, the `axis` over which the statistic is taken will be eliminated, and the value None will no longer be accepted. Set `keepdims` to True or False to avoid this warning.\n",
      "  mode, _ = stats.mode(_y[neigh_ind, k], axis=1)\n",
      "C:\\Users\\Lior Bezalel\\anaconda3\\lib\\site-packages\\sklearn\\neighbors\\_classification.py:228: FutureWarning: Unlike other reduction functions (e.g. `skew`, `kurtosis`), the default behavior of `mode` typically preserves the axis it acts along. In SciPy 1.11.0, this behavior will change: the default value of `keepdims` will become False, the `axis` over which the statistic is taken will be eliminated, and the value None will no longer be accepted. Set `keepdims` to True or False to avoid this warning.\n",
      "  mode, _ = stats.mode(_y[neigh_ind, k], axis=1)\n"
     ]
    },
    {
     "data": {
      "text/html": [
       "<div>\n",
       "<style scoped>\n",
       "    .dataframe tbody tr th:only-of-type {\n",
       "        vertical-align: middle;\n",
       "    }\n",
       "\n",
       "    .dataframe tbody tr th {\n",
       "        vertical-align: top;\n",
       "    }\n",
       "\n",
       "    .dataframe thead th {\n",
       "        text-align: right;\n",
       "    }\n",
       "</style>\n",
       "<table border=\"1\" class=\"dataframe\">\n",
       "  <thead>\n",
       "    <tr style=\"text-align: right;\">\n",
       "      <th></th>\n",
       "      <th>k</th>\n",
       "      <th>train_accuracy</th>\n",
       "      <th>test_accuracy</th>\n",
       "    </tr>\n",
       "  </thead>\n",
       "  <tbody>\n",
       "    <tr>\n",
       "      <th>0</th>\n",
       "      <td>3</td>\n",
       "      <td>0.793633</td>\n",
       "      <td>0.633113</td>\n",
       "    </tr>\n",
       "    <tr>\n",
       "      <th>1</th>\n",
       "      <td>7</td>\n",
       "      <td>0.740193</td>\n",
       "      <td>0.658278</td>\n",
       "    </tr>\n",
       "    <tr>\n",
       "      <th>2</th>\n",
       "      <td>9</td>\n",
       "      <td>0.729392</td>\n",
       "      <td>0.658278</td>\n",
       "    </tr>\n",
       "    <tr>\n",
       "      <th>3</th>\n",
       "      <td>11</td>\n",
       "      <td>0.717453</td>\n",
       "      <td>0.663576</td>\n",
       "    </tr>\n",
       "  </tbody>\n",
       "</table>\n",
       "</div>"
      ],
      "text/plain": [
       "    k  train_accuracy  test_accuracy\n",
       "0   3        0.793633       0.633113\n",
       "1   7        0.740193       0.658278\n",
       "2   9        0.729392       0.658278\n",
       "3  11        0.717453       0.663576"
      ]
     },
     "execution_count": 15,
     "metadata": {},
     "output_type": "execute_result"
    }
   ],
   "source": [
    "k_s=[]\n",
    "train_accuracies=[]\n",
    "test_accuracies=[]\n",
    "\n",
    "# Create an instance of the StandardScaler class\n",
    "scaler = StandardScaler()\n",
    "\n",
    "# Normalize the input features\n",
    "X_train_normalized = scaler.fit_transform(XTrain)\n",
    "X_test_normalized = scaler.transform(XTest)\n",
    "for k in [3, 7, 9, 11]:\n",
    "    clf = KNeighborsClassifier(n_neighbors=k)\n",
    "    clf.fit(X_train_normalized, yTrain)\n",
    "    y_pred_train=clf.predict(X_train_normalized)\n",
    "    y_pred=clf.predict(X_test_normalized)\n",
    "    k_s.append(k)\n",
    "    train_accuracies.append(metrics.accuracy_score(y_true = yTrain, y_pred = y_pred_train))\n",
    "    test_accuracies.append(metrics.accuracy_score(y_true = yTest, y_pred = y_pred))\n",
    "\n",
    "df=pd.DataFrame({\"k\":k_s,\"train_accuracy\":train_accuracies,\"test_accuracy\":test_accuracies})\n",
    "df"
   ]
  }
 ],
 "metadata": {
  "kernelspec": {
   "display_name": "Python 3 (ipykernel)",
   "language": "python",
   "name": "python3"
  },
  "language_info": {
   "codemirror_mode": {
    "name": "ipython",
    "version": 3
   },
   "file_extension": ".py",
   "mimetype": "text/x-python",
   "name": "python",
   "nbconvert_exporter": "python",
   "pygments_lexer": "ipython3",
   "version": "3.9.13"
  }
 },
 "nbformat": 4,
 "nbformat_minor": 5
}
