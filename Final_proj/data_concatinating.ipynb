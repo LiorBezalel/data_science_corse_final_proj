{
 "cells": [
  {
   "cell_type": "code",
   "execution_count": 1,
   "id": "3cfb1aaf",
   "metadata": {},
   "outputs": [],
   "source": [
    "import pandas as pd\n",
    "import os"
   ]
  },
  {
   "cell_type": "markdown",
   "id": "5258ce80",
   "metadata": {},
   "source": [
    "# data concatinating\n",
    "loading each dataframe we built from the crawler and spotify's API requests and concatinating them to on dataframe "
   ]
  },
  {
   "cell_type": "code",
   "execution_count": 2,
   "id": "62861e1a",
   "metadata": {},
   "outputs": [],
   "source": [
    "data_pt1 = pd.read_csv('Data/03 billboard_scraped_w featuers_popular.csv',index_col=0)\n",
    "data_pt2 = pd.read_csv('Data/04 all_flops_w featuers_popular.csv',index_col=0)\n",
    "data_pt3 = pd.read_csv('Data/05 scraped_data_added_w_featuers_popular.csv',index_col=0)"
   ]
  },
  {
   "cell_type": "code",
   "execution_count": 3,
   "id": "ee4f82e8",
   "metadata": {},
   "outputs": [
    {
     "data": {
      "text/plain": [
       "(2677, 21)"
      ]
     },
     "execution_count": 3,
     "metadata": {},
     "output_type": "execute_result"
    }
   ],
   "source": [
    "frames = [data_pt1, data_pt2, data_pt3]\n",
    "data = pd.concat(frames)\n",
    "data.shape"
   ]
  },
  {
   "cell_type": "code",
   "execution_count": 4,
   "id": "6188d45a",
   "metadata": {},
   "outputs": [],
   "source": [
    "data.entered_biilboard.fillna(0, inplace = True)"
   ]
  },
  {
   "cell_type": "code",
   "execution_count": 5,
   "id": "1714d8d8",
   "metadata": {},
   "outputs": [],
   "source": [
    "data.drop(columns = [\"location_at_chart\",\"year_of_billboard\",'release_year'], inplace = True)\n",
    "data[\"entered_biilboard\"] = data[\"entered_biilboard\"].astype(\"int64\")"
   ]
  },
  {
   "cell_type": "code",
   "execution_count": 6,
   "id": "477aacf8",
   "metadata": {},
   "outputs": [],
   "source": [
    "data = data.drop_duplicates(subset = \"spotify_track_id\", inplace = False, keep = \"first\")"
   ]
  },
  {
   "cell_type": "code",
   "execution_count": 7,
   "id": "b9ac4834",
   "metadata": {},
   "outputs": [
    {
     "data": {
      "text/plain": [
       "(2514, 18)"
      ]
     },
     "execution_count": 7,
     "metadata": {},
     "output_type": "execute_result"
    }
   ],
   "source": [
    "data.shape"
   ]
  },
  {
   "cell_type": "code",
   "execution_count": 8,
   "id": "b3652cdb",
   "metadata": {},
   "outputs": [
    {
     "name": "stdout",
     "output_type": "stream",
     "text": [
      "<class 'pandas.core.frame.DataFrame'>\n",
      "Int64Index: 2514 entries, 0 to 198\n",
      "Data columns (total 18 columns):\n",
      " #   Column             Non-Null Count  Dtype  \n",
      "---  ------             --------------  -----  \n",
      " 0   song_name          2514 non-null   object \n",
      " 1   artist             2514 non-null   object \n",
      " 2   spotify_track_id   2514 non-null   object \n",
      " 3   danceability       2514 non-null   float64\n",
      " 4   energy             2514 non-null   float64\n",
      " 5   key                2514 non-null   int64  \n",
      " 6   loudness           2514 non-null   float64\n",
      " 7   mode               2514 non-null   int64  \n",
      " 8   speechiness        2514 non-null   float64\n",
      " 9   acousticness       2514 non-null   float64\n",
      " 10  instrumentalness   2514 non-null   float64\n",
      " 11  liveness           2514 non-null   float64\n",
      " 12  valence            2514 non-null   float64\n",
      " 13  tempo              2514 non-null   float64\n",
      " 14  duration_ms        2514 non-null   int64  \n",
      " 15  time_signature     2514 non-null   int64  \n",
      " 16  tracks_popularity  2514 non-null   int64  \n",
      " 17  entered_biilboard  2514 non-null   int64  \n",
      "dtypes: float64(9), int64(6), object(3)\n",
      "memory usage: 373.2+ KB\n"
     ]
    }
   ],
   "source": [
    "data.info()"
   ]
  },
  {
   "cell_type": "code",
   "execution_count": null,
   "id": "da5cec16",
   "metadata": {},
   "outputs": [],
   "source": [
    "# data.to_csv(\"pre_EDA_dataset.csv\")"
   ]
  }
 ],
 "metadata": {
  "kernelspec": {
   "display_name": "Python 3 (ipykernel)",
   "language": "python",
   "name": "python3"
  },
  "language_info": {
   "codemirror_mode": {
    "name": "ipython",
    "version": 3
   },
   "file_extension": ".py",
   "mimetype": "text/x-python",
   "name": "python",
   "nbconvert_exporter": "python",
   "pygments_lexer": "ipython3",
   "version": "3.9.13"
  }
 },
 "nbformat": 4,
 "nbformat_minor": 5
}
