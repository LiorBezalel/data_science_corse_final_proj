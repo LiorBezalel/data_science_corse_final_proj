{
 "cells": [
  {
   "cell_type": "code",
   "execution_count": 1,
   "id": "86693949",
   "metadata": {},
   "outputs": [],
   "source": [
    "from selenium import webdriver\n",
    "from selenium.webdriver.common.keys import Keys\n",
    "from selenium.webdriver.common.by import By\n",
    "from time import sleep\n",
    "import pandas as pd\n",
    "from tqdm.notebook import tqdm"
   ]
  },
  {
   "cell_type": "markdown",
   "id": "35133bd3",
   "metadata": {},
   "source": [
    "# crawling the data from billboard site\n",
    "setting the url to billboards site and extracting the relevant data using selenium and the html body of the site\n",
    "extracting the name of the song, the name of the artist, the year of the chart and the location at the chart"
   ]
  },
  {
   "cell_type": "code",
   "execution_count": 5,
   "id": "6439af03",
   "metadata": {},
   "outputs": [
    {
     "data": {
      "application/vnd.jupyter.widget-view+json": {
       "model_id": "bcedfcd0b1da4868bcfb3400c4f6cbad",
       "version_major": 2,
       "version_minor": 0
      },
      "text/plain": [
       "  0%|          | 0/9 [00:00<?, ?it/s]"
      ]
     },
     "metadata": {},
     "output_type": "display_data"
    }
   ],
   "source": [
    "URL = \"https://www.billboard.com/charts/year-end/hot-100-songs/\"\n",
    "driver = webdriver.Chrome()\n",
    "driver.get(URL)\n",
    "song_name_list = []\n",
    "artists = []\n",
    "year = []\n",
    "ranked = []\n",
    "\n",
    "for i in tqdm(range(0, 11)):\n",
    "    songs_chart_list = driver.find_elements(By.CLASS_NAME, \"o-chart-results-list-row-container\")\n",
    "    current_year = int((driver.find_element(By.TAG_NAME, \"h4\").text))\n",
    "    for song in songs_chart_list:\n",
    "        location = int(song.find_element(By.TAG_NAME, \"span\").text)\n",
    "        artist = song.find_element(By.XPATH, \"ul/li[3]/ul/li[1]/span\").text.lower()\n",
    "        song_name = song.find_element(By.XPATH, \"ul/li[3]/ul/li[1]/h3\").text.lower()\n",
    "        \n",
    "        song_name_list.append(song_name)\n",
    "        artists.append(artist)\n",
    "        ranked.append(location)\n",
    "        year.append(current_year)\n",
    "    sleep(2)\n",
    "    link = driver.find_element(By.XPATH,f'//*[@id=\"post-1480044\"]/div[1]/div/div[2]/div[2]/div[1]/nav/ul/li[{i + 2}]/a').get_attribute(\n",
    "        'href')\n",
    "    driver.get(link)\n",
    "driver.close()"
   ]
  },
  {
   "cell_type": "markdown",
   "id": "7412857c",
   "metadata": {},
   "source": [
    "organazing the data in a dataframe and saving it to a csv file"
   ]
  },
  {
   "cell_type": "code",
   "execution_count": 6,
   "id": "21bae201",
   "metadata": {},
   "outputs": [],
   "source": [
    "df = pd.DataFrame({\"Title\": song_name_list, \"Artist\": artists,\"location_at_chart\": location_at_chart,\n",
    "                   \"Year\": year})"
   ]
  },
  {
   "cell_type": "code",
   "execution_count": 7,
   "id": "145095d2",
   "metadata": {},
   "outputs": [],
   "source": [
    "# df.to_csv(\"../Data/01 billboard_scraped.csv\")"
   ]
  }
 ],
 "metadata": {
  "kernelspec": {
   "display_name": "Python 3 (ipykernel)",
   "language": "python",
   "name": "python3"
  },
  "language_info": {
   "codemirror_mode": {
    "name": "ipython",
    "version": 3
   },
   "file_extension": ".py",
   "mimetype": "text/x-python",
   "name": "python",
   "nbconvert_exporter": "python",
   "pygments_lexer": "ipython3",
   "version": "3.9.13"
  }
 },
 "nbformat": 4,
 "nbformat_minor": 5
}
